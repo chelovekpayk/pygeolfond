{
 "cells": [
  {
   "cell_type": "code",
   "execution_count": 1,
   "metadata": {},
   "outputs": [],
   "source": [
    "import pandas as pd"
   ]
  },
  {
   "cell_type": "code",
   "execution_count": 3,
   "metadata": {},
   "outputs": [],
   "source": [
    "import Parser"
   ]
  },
  {
   "cell_type": "code",
   "execution_count": 8,
   "metadata": {},
   "outputs": [
    {
     "name": "stdout",
     "output_type": "stream",
     "text": [
      "[client]: Данные загружены успешно. Всего 16138 строк\n",
      "[client]: Данные загружены успешно. Всего 16138 строк\n",
      "[client]: Данные загружены успешно. Всего 16138 строк\n",
      "[client]: Данные загружены успешно. Всего 16138 строк\n",
      "[client]: Данные загружены успешно. Всего 16138 строк\n"
     ]
    }
   ],
   "source": [
    "req = Parser.client()\n",
    "data = req.get_data_from_reestr('oil')"
   ]
  },
  {
   "cell_type": "code",
   "execution_count": 9,
   "metadata": {},
   "outputs": [],
   "source": [
    "df = pd.DataFrame(data)"
   ]
  },
  {
   "cell_type": "code",
   "execution_count": 13,
   "metadata": {},
   "outputs": [
    {
     "data": {
      "text/plain": [
       "2034                  Норильскгазпром\n",
       "3489     ОАО ННК-Таймырнефтегаздобыча\n",
       "3490     ОАО ННК-Таймырнефтегаздобыча\n",
       "4266                     ООО \"Актион\"\n",
       "4267                     ООО \"Актион\"\n",
       "                     ...             \n",
       "16133                  ГП Якутгазпром\n",
       "16134                  ГП Якутгазпром\n",
       "16135      ИЧП Курбанова Фирма ФАРЭГО\n",
       "16136                  ГП Якутгазпром\n",
       "16137                  ГП Якутгазпром\n",
       "Name: owner_full, Length: 3401, dtype: object"
      ]
     },
     "execution_count": 13,
     "metadata": {},
     "output_type": "execute_result"
    }
   ],
   "source": [
    "df['owner_full'].loc[df['owner_full'].str.contains('ИНН') == False]"
   ]
  }
 ],
 "metadata": {
  "kernelspec": {
   "display_name": "venv",
   "language": "python",
   "name": "python3"
  },
  "language_info": {
   "codemirror_mode": {
    "name": "ipython",
    "version": 3
   },
   "file_extension": ".py",
   "mimetype": "text/x-python",
   "name": "python",
   "nbconvert_exporter": "python",
   "pygments_lexer": "ipython3",
   "version": "3.11.4"
  },
  "orig_nbformat": 4
 },
 "nbformat": 4,
 "nbformat_minor": 2
}
