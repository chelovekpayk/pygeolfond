{
 "cells": [
  {
   "cell_type": "code",
   "execution_count": 1,
   "metadata": {},
   "outputs": [],
   "source": [
    "import Parser\n",
    "import datetime"
   ]
  },
  {
   "cell_type": "code",
   "execution_count": 2,
   "metadata": {},
   "outputs": [
    {
     "data": {
      "text/plain": [
       "'19.09.2023'"
      ]
     },
     "execution_count": 2,
     "metadata": {},
     "output_type": "execute_result"
    }
   ],
   "source": [
    "n = datetime.datetime.strftime(datetime.datetime.now(), '%d.%m.%Y')\n",
    "n"
   ]
  },
  {
   "cell_type": "code",
   "execution_count": 3,
   "metadata": {},
   "outputs": [
    {
     "name": "stdout",
     "output_type": "stream",
     "text": [
      "[transformer]: Средняя цена АБ92-регуляр 67435.0 \n",
      "Средняя цена ДТ 71060.0\n"
     ]
    }
   ],
   "source": [
    "c = Parser.client()\n",
    "data = c.get_abdt_index()\n",
    "m = Parser.transformer(data=data)\n",
    "m.create_abdt_index()\n",
    "s = m.kdemp()"
   ]
  },
  {
   "cell_type": "code",
   "execution_count": 4,
   "metadata": {},
   "outputs": [],
   "source": [
    "ms = Parser.sender()"
   ]
  },
  {
   "cell_type": "code",
   "execution_count": 5,
   "metadata": {},
   "outputs": [
    {
     "name": "stdout",
     "output_type": "stream",
     "text": [
      "[email-sender]: prices.xlsx добавлен во вложениe\n",
      "Content-Type: multipart/mixed; boundary=\"===============2779662523288383618==\"\n",
      "MIME-Version: 1.0\n",
      "Subject: =?utf-8?b?0JrQsNCx0LTRgiAtIDE5LjA5LjIwMjM=?=\n",
      "From: geolfondapp@mail.ru\n",
      "To: afterpati@ya.ru\n",
      "\n",
      "--===============2779662523288383618==\n",
      "Content-Type: application/xlsx\n",
      "MIME-Version: 1.0\n",
      "Content-Transfer-Encoding: base64\n",
      "Content-Disposition: attachment; filename=\"prices.xlsx\"\n",
      "\n",
      "UEsDBBQAAAAIAHOVL1cHQU1igQAAALEAAAAQAAAAZG9jUHJvcHMvYXBwLnhtbE2OPQsCMRBE/8px\n",
      "vbdBwUJiQNBSsLIPexsvkGRDskJ+vjnBj24ebxhG3wpnKuKpDi2GVI/jIpIPABUXirZOXaduHJdo\n",
      "pWN5ADvnkc6Mz0hJYKvUHqgJpZnmTf4Ojkafcg4erXhO5uqxcGUnw6UhBQ3/cm3eqdQ17yb1lh/W\n",
      "8DtpXlBLAwQUAAAACABzlS9XnjLlNu4AAAArAgAAEQAAAGRvY1Byb3BzL2NvcmUueG1szZLPSsQw\n",
      "EIdfRXJvp2mtYOjmonhSEFxQvIVkdjfY/CEZafftbetuF9EH8JiZX775BqbTUeiQ8DmFiIks5qvR\n",
      "9T4LHTfsQBQFQNYHdCqXU8JPzV1ITtH0THuISn+oPUJdVTfgkJRRpGAGFnElMtkZLXRCRSGd8Eav\n",
      "+PiZ+gVmNGCPDj1l4CUHJueJ8Tj2HVwAM4wwufxdQLMSl+qf2KUD7JQcs11TwzCUQ7Pkph04vD09\n",
      "vizrFtZnUl7j9CtbQceIG3ae/Nrc3W8fmKyruimq24K3W96K60bw9n12/eF3EXbB2J39x8ZnQdnB\n",
      "r7uQX1BLAwQUAAAACABzlS9XmVycIxAGAACcJwAAEwAAAHhsL3RoZW1lL3RoZW1lMS54bWztWltz\n",
      "2jgUfu+v0Hhn9m0LxjaBtrQTc2l227SZhO1OH4URWI1seWSRhH+/RzYQy5YN7ZJNups8BCzp+85F\n",
      "R+foOHnz7i5i6IaIlPJ4YNkv29a7ty/e4FcyJBFBMBmnr/DACqVMXrVaaQDDOH3JExLD3IKLCEt4\n",
      "FMvWXOBbGi8j1uq0291WhGlsoRhHZGB9XixoQNBUUVpvXyC05R8z+BXLVI1lowETV0EmuYi08vls\n",
      "xfza3j5lz+k6HTKBbjAbWCB/zm+n5E5aiOFUwsTAamc/VmvH0dJIgILJfZQFukn2o9MVCDINOzqd\n",
      "WM52fPbE7Z+Mytp0NG0a4OPxeDi2y9KLcBwE4FG7nsKd9Gy/pEEJtKNp0GTY9tqukaaqjVNP0/d9\n",
      "3+ubaJwKjVtP02t33dOOicat0HgNvvFPh8Ouicar0HTraSYn/a5rpOkWaEJG4+t6EhW15UDTIABY\n",
      "cHbWzNIDll4p+nWUGtkdu91BXPBY7jmJEf7GxQTWadIZljRGcp2QBQ4AN8TRTFB8r0G2iuDCktJc\n",
      "kNbPKbVQGgiayIH1R4Ihxdyv/fWXu8mkM3qdfTrOa5R/aasBp+27m8+T/HPo5J+nk9dNQs5wvCwJ\n",
      "8fsjW2GHJ247E3I6HGdCfM/29pGlJTLP7/kK6048Zx9WlrBdz8/knoxyI7vd9lh99k9HbiPXqcCz\n",
      "IteURiRFn8gtuuQROLVJDTITPwidhphqUBwCpAkxlqGG+LTGrBHgE323vgjI342I96tvmj1XoVhJ\n",
      "2oT4EEYa4pxz5nPRbPsHpUbR9lW83KOXWBUBlxjfNKo1LMXWeJXA8a2cPB0TEs2UCwZBhpckJhKp\n",
      "OX5NSBP+K6Xa/pzTQPCULyT6SpGPabMjp3QmzegzGsFGrxt1h2jSPHr+BfmcNQockRsdAmcbs0Yh\n",
      "hGm78B6vJI6arcIRK0I+Yhk2GnK1FoG2camEYFoSxtF4TtK0EfxZrDWTPmDI7M2Rdc7WkQ4Rkl43\n",
      "Qj5izouQEb8ehjhKmu2icVgE/Z5ew0nB6ILLZv24fobVM2wsjvdH1BdK5A8mpz/pMjQHo5pZCb2E\n",
      "Vmqfqoc0PqgeMgoF8bkePuV6eAo3lsa8UK6CewH/0do3wqv4gsA5fy59z6XvufQ9odK3NyN9Z8HT\n",
      "i1veRm5bxPuuMdrXNC4oY1dyzcjHVK+TKdg5n8Ds/Wg+nvHt+tkkhK+aWS0jFpBLgbNBJLj8i8rw\n",
      "KsQJ6GRbJQnLVNNlN4oSnkIbbulT9UqV1+WvuSi4PFvk6a+hdD4sz/k8X+e0zQszQ7dyS+q2lL61\n",
      "JjhK9LHMcE4eyww7ZzySHbZ3oB01+/ZdduQjpTBTl0O4GkK+A226ndw6OJ6YkbkK01KQb8P56cV4\n",
      "GuI52QS5fZhXbefY0dH758FRsKPvPJYdx4jyoiHuoYaYz8NDh3l7X5hnlcZQNBRtbKwkLEa3YLjX\n",
      "8SwU4GRgLaAHg69RAvJSVWAxW8YDK5CifEyMRehw55dcX+PRkuPbpmW1bq8pdxltIlI5wmmYE2er\n",
      "yt5lscFVHc9VW/Kwvmo9tBVOz/5ZrcifDBFOFgsSSGOUF6ZKovMZU77nK0nEVTi/RTO2EpcYvOPm\n",
      "x3FOU7gSdrYPAjK5uzmpemUxZ6by3y0MCSxbiFkS4k1d7dXnm5yueiJ2+pd3wWDy/XDJRw/lO+df\n",
      "9F1Drn723eP6bpM7SEycecURAXRFAiOVHAYWFzLkUO6SkAYTAc2UyUTwAoJkphyAmPoLvfIMuSkV\n",
      "zq0+OX9FLIOGTl7SJRIUirAMBSEXcuPv75Nqd4zX+iyBbYRUMmTVF8pDicE9M3JD2FQl867aJguF\n",
      "2+JUzbsaviZgS8N6bp0tJ//bXtQ9tBc9RvOjmeAes4dzm3q4wkWs/1jWHvky3zlw2zreA17mEyxD\n",
      "pH7BfYqKgBGrYr66r0/5JZw7tHvxgSCb/NbbpPbd4Ax81KtapWQrET9LB3wfkgZjjFv0NF+PFGKt\n",
      "prGtxtoxDHmAWPMMoWY434dFmhoz1YusOY0Kb0HVQOU/29QNaPYNNByRBV4xmbY2o+ROCjzc/u8N\n",
      "sMLEjuHti78BUEsDBBQAAAAIAHOVL1f0ehxUVgQAAKERAAAYAAAAeGwvd29ya3NoZWV0cy9zaGVl\n",
      "dDEueG1shZjbbuM2EIZfxfADUJzheeEYaFwU7UWBYBftXisxEwtrW66kJO3bl9ImEjmi7NzE0gz5\n",
      "/zx9GmnzXjc/2oP33erf0/Hc3q0PXXf5UhTt08GfypbVF38Okee6OZVduGxeivbS+HI/NDodC+Rc\n",
      "F6eyOq+3m+HeQ7Pd1K/dsTr7h2bVvp5OZfPfvT/W73drWH/e+Fq9HLr+RrHdXMoX/813f10emnBV\n",
      "jL3sq5M/t1V9XjX++W79C3zZiaHBkPF35d/b6PeqH8pjXf/oL/7Y361578gf/VPXd1GGf29+54/H\n",
      "vqfg45+PTtejZt8w/v3Z+2/D4MNgHsvW7+rj92rfHe7Wdr3a++fy9dh9rd9/9x8DUqPBX8uu3G6a\n",
      "+n3V9APdbp76H4P2MBMhuzr30/Sta0K0CnLdNjTy7abogo/+RvH00ez+erOHpnrymWa7682+BrW0\n",
      "VRH8jqZxNI1DNzh006/021YqEG5TvMUe47gRzIg0vovjTjG0SvDPPxhzEwtitCByFrglFkQU15Ih\n",
      "d9EfsRPnOs6kkXkPcvQgMx64oR5kFFeKSUV047gVTIATeWE1CqucsDREWMXCglHdOGwcQ0CVmZvE\n",
      "gR4d6JwDoA507MAyR+K7OG45c06pWzvAjBbM3IJ0VhMLJo5bpqmFOG40Ay50XtiOwjYnrOiy2zju\n",
      "mKDTH8cNMmPR3Jp+N1pwOQtIp9+lFjgSC3FcW2bNwtCBT7jiGWXr6Kz3adPKcwZ09EmCVsxGGal2\n",
      "hErIaeuZNsRda6bpQU8TOAvcWdCeiAcZ5ElLF/UeEuYBc0C14wQNDCDaOKn4xDrIwE5aPhMX6Xrq\n",
      "mXicoByzuDjrE+QgQzlpIjh+iMcYM4o5ScVlOuvCwcI2hwl0kCFdALOg4jHLrGQwW3KVkggRFugO\n",
      "E+MgAzlpYCYeUyw8OJAesyRBGQbGLh20iW6Qw5u2SMUTfjnmLBWPE3T/eIkwkYpPhIMc4rSaidt0\n",
      "t3PgPMPvDyNJsmHWhQ1wA3gwEQ9yyNMI1FLMNAcM9TVLcXIgP5MLU4MTADEHQOXopsCYby4UP3RT\n",
      "JAlhOkC7hR2JEwExR0Cl6bpgDDirmaCbIkkITz3lFkceFX05BCpBVwATBCKzM3FaF+qlggcnBGIO\n",
      "gYqu6D2KG8chTcDwcLD21i7ECYaYg6E0nNpIajpg5lrdmSSHU9QP61YVhBMiMYdIKWeWVDpw+kCm\n",
      "cYf65vHEiZWYY6Xks1eCGIXhESVm7wQ63RzKLuEKJ1ZijpViVoijSYdoaC2YJgjWb40F8YmVmGOl\n",
      "kDNxS1f52pYgxaEGvWRkIiTmCClmNTkmVZ9m7qqRONlIxrlcOKtiQqTIIRItNSKSEjAMkr6P8RRS\n",
      "IMXCJIiJkCJHSFS0RhRJCSjY7F0Q0nELFx9h4qKI3u/7jxd/ls1LdW5XR/8c+uDMhKPV/Pwe8POi\n",
      "qy/DS/hj3XX1afh58OXeN31CiD/Xdfd50X+OGL/KbP8HUEsDBBQAAAAIAHOVL1co9DjL5wIAADYM\n",
      "AAANAAAAeGwvc3R5bGVzLnhtbN1XXW/aMBT9K1beWQpZI4II0kZVddKYKtGH7dEQh1jyR+aYCvrr\n",
      "52un4aO+1banaUZg+x6fe66vrxMx7+xRsHXDmCUHKVRXJo217SxNu23DJO0+6JYph9TaSGrd1OzS\n",
      "rjWMVh2QpEgnNzd5KilXyWKu9vJe2o5s9V7ZMpkMJhK6L1WZjPOPCQnulrpiZXJ0bSTlqKpIM5Ny\n",
      "1nVJGuXdXvJ+uDZarUZ3d+ThYbZazdZrIKZ9EIt5rdVlLGBwnqlk5JmKMllSwTeGA6umkotjME/A\n",
      "sNVCG2JdEpzUGCzdS4DHYQb56f1IrrTx2kEh/G765WeA7yAyLsRlZM6wmLfUWmbUvZt4jje+gUg/\n",
      "fjq2LrSdocfx5DY5EXznRDbaVMxcyATTYi5YbR3B8F0DvdVtCqC1WrpBxelOK+pjeGWcM4kvmjKx\n",
      "jTv0VzfXRufz2hQErq2DRD9wkW+ZEGtY9b0ewh+78A/1WT3cQDWoYej23A+DmzAB/+fegu8zt9lf\n",
      "uSUtf9b2897tR/n5z7227NGwmh/8/FAP+pj3MeLd2WnbiuMnwXdKsrD33xZczOkrjzTa8BenBlW4\n",
      "dQZmEvLMjOVbsLgD8uk51Fcx9hft34sy7c/urEAuymOwErjiZfINHhbipEo2ey4sV/2s4VXF1Jsq\n",
      "ce4t3biH4oV/t75iNd0L+zSAZXIar1jF97IYVj1CJvpVp/FXuCnjfHi+OC2uKnZg1bKfmt3GD4kb\n",
      "ONW++Vt2hdz7FkcwTsDiCGCYDhYBxgksTOd/2s8U3U/AsNimUWSKcqYoJ7BiyNJ/MJ04p3AtvtOi\n",
      "yLI8xzK6XEYjWGJ5y3P4xr1hsQED0wGlP8s1ftp4hbxfB9iZvlch2E7xSsR2iucakHjegFEU8dPG\n",
      "dICBnQJWO6Af14GainOyDE4Viw27wThSFBgCtRiv0TxHspPDJ34+2C3JsqKII4DFI8gyDIHbiCNY\n",
      "BBADhmSZfw9evY/S1/dUevqnsPgFUEsDBBQAAAAIAHOVL1eXirscwAAAABMCAAALAAAAX3JlbHMv\n",
      "LnJlbHOdkrluwzAMQH/F0J4wB9AhiDNl8RYE+QFWog/YEgWKRZ2/r9qlcZALGXk9PBLcHmlA7Tik\n",
      "toupGP0QUmla1bgBSLYlj2nOkUKu1CweNYfSQETbY0OwWiw+QC4ZZre9ZBanc6RXiFzXnaU92y9P\n",
      "QW+ArzpMcUJpSEszDvDN0n8y9/MMNUXlSiOVWxp40+X+duBJ0aEiWBaaRcnToh2lfx3H9pDT6a9j\n",
      "IrR6W+j5cWhUCo7cYyWMcWK0/jWCyQ/sfgBQSwMEFAAAAAgAc5UvVxq6G6swAQAAIwIAAA8AAAB4\n",
      "bC93b3JrYm9vay54bWyNUdFKw0AQ/JVwH2BS0YKl6YtFLYgWK32/JJtm6d1t2Nu02q93kxAs+OLT\n",
      "3s4sw8zc8kx8LIiOyZd3IeamEWkXaRrLBryNN9RCUKYm9lZ05UMaWwZbxQZAvEtvs2yeeovBrJaT\n",
      "1pbT64UESkEKCvbAHuEcf/l+TU4YsUCH8p2b4e3AJB4DerxAlZvMJLGh8wsxXiiIdbuSybnczEZi\n",
      "DyxY/oF3vclPW8QBEVt8WDWSm3mmgjVylOFi0Lfq8QR6PG6d0BM6AV5bgWemrsVw6GU0RXoVY+hh\n",
      "mmOJC/5PjVTXWMKays5DkLFHBtcbDLHBNpokWA+5GSwOgXRuqjGcqKurqniBSvCmGv1NpiqoMUD1\n",
      "pjpRcS2o3HLSj0Hn9u5+9qBFdM49KvYeXslWU8bpf1Y/UEsDBBQAAAAIAHOVL1ckHpuirQAAAPgB\n",
      "AAAaAAAAeGwvX3JlbHMvd29ya2Jvb2sueG1sLnJlbHO1kT0OgzAMha8S5QA1UKlDBUxdWCsuEAXz\n",
      "IxISxa4Kty+FAZA6dGGyni1/78lOn2gUd26gtvMkRmsGymTL7O8ApFu0ii7O4zBPahes4lmGBrzS\n",
      "vWoQkii6QdgzZJ7umaKcPP5DdHXdaXw4/bI48A8wvF3oqUVkKUoVGuRMwmi2NsFS4stMlqKoMhmK\n",
      "KpZwWiDiySBtaVZ9sE9OtOd5Fzf3Ra7N4wmu3wxweHT+AVBLAwQUAAAACABzlS9XZZB5khkBAADP\n",
      "AwAAEwAAAFtDb250ZW50X1R5cGVzXS54bWytk01OwzAQha8SZVslLixYoKYbYAtdcAFjTxqr/pNn\n",
      "WtLbM07aSqASFYVNrHjevM+el6zejxGw6J312JQdUXwUAlUHTmIdIniutCE5SfyatiJKtZNbEPfL\n",
      "5YNQwRN4qih7lOvVM7Ryb6l46XkbTfBNmcBiWTyNwsxqShmjNUoS18XB6x+U6kSouXPQYGciLlhQ\n",
      "iquEXPkdcOp7O0BKRkOxkYlepWOV6K1AOlrAetriyhlD2xoFOqi945YaYwKpsQMgZ+vRdDFNJp4w\n",
      "jM+72fzBZgrIyk0KETmxBH/HnSPJ3VVkI0hkpq94IbL17PtBTluDvpHN4/0MaTfkgWJY5s/4e8YX\n",
      "/xvO8RHC7r8/sbzWThp/5ovhP15/AVBLAQIUAxQAAAAIAHOVL1cHQU1igQAAALEAAAAQAAAAAAAA\n",
      "AAAAAACAAQAAAABkb2NQcm9wcy9hcHAueG1sUEsBAhQDFAAAAAgAc5UvV54y5TbuAAAAKwIAABEA\n",
      "AAAAAAAAAAAAAIABrwAAAGRvY1Byb3BzL2NvcmUueG1sUEsBAhQDFAAAAAgAc5UvV5lcnCMQBgAA\n",
      "nCcAABMAAAAAAAAAAAAAAIABzAEAAHhsL3RoZW1lL3RoZW1lMS54bWxQSwECFAMUAAAACABzlS9X\n",
      "9HocVFYEAAChEQAAGAAAAAAAAAAAAAAAgIENCAAAeGwvd29ya3NoZWV0cy9zaGVldDEueG1sUEsB\n",
      "AhQDFAAAAAgAc5UvVyj0OMvnAgAANgwAAA0AAAAAAAAAAAAAAIABmQwAAHhsL3N0eWxlcy54bWxQ\n",
      "SwECFAMUAAAACABzlS9Xl4q7HMAAAAATAgAACwAAAAAAAAAAAAAAgAGrDwAAX3JlbHMvLnJlbHNQ\n",
      "SwECFAMUAAAACABzlS9XGrobqzABAAAjAgAADwAAAAAAAAAAAAAAgAGUEAAAeGwvd29ya2Jvb2su\n",
      "eG1sUEsBAhQDFAAAAAgAc5UvVyQem6KtAAAA+AEAABoAAAAAAAAAAAAAAIAB8REAAHhsL19yZWxz\n",
      "L3dvcmtib29rLnhtbC5yZWxzUEsBAhQDFAAAAAgAc5UvV2WQeZIZAQAAzwMAABMAAAAAAAAAAAAA\n",
      "AIAB1hIAAFtDb250ZW50X1R5cGVzXS54bWxQSwUGAAAAAAkACQA+AgAAIBQAAAAA\n",
      "\n",
      "--===============2779662523288383618==\n",
      "Content-Type: text/html; charset=\"utf-8\"\n",
      "MIME-Version: 1.0\n",
      "Content-Transfer-Encoding: base64\n",
      "\n",
      "PHRhYmxlIGJvcmRlcj0iMSIgY2xhc3M9ImRhdGFmcmFtZSI+CiAgPHRoZWFkPgogICAgPHRyIHN0\n",
      "eWxlPSJ0ZXh0LWFsaWduOiByaWdodDsiPgogICAgICA8dGg+PC90aD4KICAgICAgPHRoPtCh0YDQ\n",
      "tdC00L3QtdC1PC90aD4KICAgICAgPHRoPtCd0L7RgNC80LDRgtC40LI8L3RoPgogICAgICA8dGg+\n",
      "0JvQuNC80LjRgjwvdGg+CiAgICAgIDx0aD5tYXg8L3RoPgogICAgICA8dGg+0J7RgtC60LvQvtC9\n",
      "0LXQvdC40LUg0L7RgiDQvdC+0YDQvNCw0YLQuNCy0LAsICU8L3RoPgogICAgICA8dGg+0JTQtdC7\n",
      "0YzRgtCwPC90aD4KICAgIDwvdHI+CiAgICA8dHI+CiAgICAgIDx0aD7QmtC+0YLQuNGA0L7QstC6\n",
      "0LA8L3RoPgogICAgICA8dGg+PC90aD4KICAgICAgPHRoPjwvdGg+CiAgICAgIDx0aD48L3RoPgog\n",
      "ICAgICA8dGg+PC90aD4KICAgICAgPHRoPjwvdGg+CiAgICAgIDx0aD48L3RoPgogICAgPC90cj4K\n",
      "ICA8L3RoZWFkPgogIDx0Ym9keT4KICAgIDx0cj4KICAgICAgPHRoPtCR0LXQvdC30LjQvS3RgNC1\n",
      "0LPRg9C70Y/RgDkyPC90aD4KICAgICAgPHRkPjY3NDM1LjA8L3RkPgogICAgICA8dGQ+NTY5MDA8\n",
      "L3RkPgogICAgICA8dGQ+MC4xPC90ZD4KICAgICAgPHRkPjYyNTkwLjA8L3RkPgogICAgICA8dGQ+\n",
      "MTguNTE8L3RkPgogICAgICA8dGQ+NDg0NS4wPC90ZD4KICAgIDwvdHI+CiAgICA8dHI+CiAgICAg\n",
      "IDx0aD7QlNC40LfQtdC70Yw8L3RoPgogICAgICA8dGQ+NzEwNjAuMDwvdGQ+CiAgICAgIDx0ZD41\n",
      "Mzg1MDwvdGQ+CiAgICAgIDx0ZD4wLjI8L3RkPgogICAgICA8dGQ+NjQ2MjAuMDwvdGQ+CiAgICAg\n",
      "IDx0ZD4zMS45NjwvdGQ+CiAgICAgIDx0ZD42NDQwLjA8L3RkPgogICAgPC90cj4KICA8L3Rib2R5\n",
      "Pgo8L3RhYmxlPg==\n",
      "\n",
      "--===============2779662523288383618==--\n",
      "\n"
     ]
    }
   ],
   "source": [
    "ms.create_message(filename='prices.xlsx', htmlstr=s)\n",
    "ms.message.replace_header('To', 'afterpati@ya.ru')\n",
    "ms.message.replace_header('Subject', f'Кабдт - {n}')\n",
    "\n",
    "print(ms.message)"
   ]
  },
  {
   "cell_type": "code",
   "execution_count": 6,
   "metadata": {},
   "outputs": [
    {
     "name": "stdout",
     "output_type": "stream",
     "text": [
      "[email-sender]: Выгрузка отправлено на адрес ['abrosimov.ov@gazprom-neft.ru', 'afterpati@ya.ru']\n"
     ]
    }
   ],
   "source": [
    "ms.send_message_f()"
   ]
  },
  {
   "cell_type": "code",
   "execution_count": 13,
   "metadata": {},
   "outputs": [
    {
     "data": {
      "text/plain": [
       "'afterpati@ya.ru'"
      ]
     },
     "execution_count": 13,
     "metadata": {},
     "output_type": "execute_result"
    }
   ],
   "source": [
    "ms.message.get('To')"
   ]
  }
 ],
 "metadata": {
  "kernelspec": {
   "display_name": "venv",
   "language": "python",
   "name": "python3"
  },
  "language_info": {
   "codemirror_mode": {
    "name": "ipython",
    "version": 3
   },
   "file_extension": ".py",
   "mimetype": "text/x-python",
   "name": "python",
   "nbconvert_exporter": "python",
   "pygments_lexer": "ipython3",
   "version": "3.11.4"
  },
  "orig_nbformat": 4
 },
 "nbformat": 4,
 "nbformat_minor": 2
}
