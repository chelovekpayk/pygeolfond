{
 "cells": [
  {
   "cell_type": "code",
   "execution_count": 2,
   "metadata": {},
   "outputs": [],
   "source": [
    "import pandas as pd\n",
    "import numpy as np\n",
    "import random"
   ]
  },
  {
   "cell_type": "code",
   "execution_count": 18,
   "metadata": {},
   "outputs": [],
   "source": [
    "#Скачать данные с сайта\n",
    "\n",
    "from app import ReestrRequest\n",
    "from src.queries import lfilt\n",
    "data = ReestrRequest(lfilt['oil']).get_data_from_reestr()\n",
    "df = pd.DataFrame(data)"
   ]
  },
  {
   "cell_type": "code",
   "execution_count": 14,
   "metadata": {},
   "outputs": [],
   "source": [
    "#Загрузить из файла\n",
    "from analysis.import_path import imp_path\n",
    "df = pd.read_excel(imp_path())"
   ]
  },
  {
   "attachments": {},
   "cell_type": "markdown",
   "metadata": {},
   "source": [
    "    PIVOT_CREATING"
   ]
  },
  {
   "cell_type": "markdown",
   "metadata": {},
   "source": [
    "Подготовка данных"
   ]
  },
  {
   "cell_type": "code",
   "execution_count": null,
   "metadata": {},
   "outputs": [],
   "source": [
    "#Создание датафрейма с номерами послединих лицензий\n",
    "df_last = df[['Наименование участка недр','Государственный регистрационный номер', 'Дата лицензии', 'Year']][df.Last == True]\n",
    "df_last['prev_lic'] = df_last['Государственный регистрационный номер']\n",
    "\n",
    "#Создание датафрейма для присоединения к мейну\n",
    "df_last_pivoted = df_last.pivot(index=['Наименование участка недр','Государственный регистрационный номер', 'Дата лицензии'], columns=['Year'])['prev_lic'].sort_values(by = ['Year'], axis=1, ascending=False).bfill(axis = 1).ffill(axis = 1)"
   ]
  },
  {
   "cell_type": "code",
   "execution_count": null,
   "metadata": {},
   "outputs": [],
   "source": [
    "#Создание основного датафрейма для лицензий\n",
    "df_main = df[['Наименование участка недр','Государственный регистрационный номер','Дата лицензии', 'Year', 'prev_lic']].sort_values('Year', ascending=False)\n",
    "\n",
    "#добавление \"_\" к значению\n",
    "df_main['prev_lic'] = df_main['prev_lic'].apply(lambda x: '_' + x if type(x) is str else np.nan)\n",
    "\n",
    "#Создание пивот-датафрейма с столбцами в убывающем порядке \n",
    "df_pivoted = df_main.pivot(index=['Наименование участка недр','Государственный регистрационный номер', 'Дата лицензии'], columns=['Year'])['prev_lic'].sort_values(by = ['Year'], axis=1, ascending=False).ffill(axis=1)"
   ]
  },
  {
   "cell_type": "code",
   "execution_count": null,
   "metadata": {},
   "outputs": [],
   "source": [
    "df_concat = pd.concat([df_pivoted, df_last_pivoted]).sort_index(level=[0,2])"
   ]
  },
  {
   "cell_type": "code",
   "execution_count": null,
   "metadata": {},
   "outputs": [],
   "source": [
    "df_nan = df_concat[(df_concat.index.get_level_values(0)).isna()]"
   ]
  },
  {
   "cell_type": "code",
   "execution_count": null,
   "metadata": {},
   "outputs": [],
   "source": [
    "df_concat"
   ]
  },
  {
   "attachments": {},
   "cell_type": "markdown",
   "metadata": {},
   "source": [
    "----"
   ]
  },
  {
   "cell_type": "code",
   "execution_count": null,
   "metadata": {},
   "outputs": [],
   "source": [
    "#Взять случайный номер лизензии без наименования участка недр\n",
    "rnd = random.choice(df['Государственный регистрационный номер'][df['Наименование участка недр'].isna()].tolist())\n",
    "print (str(rnd))\n",
    "\n",
    "df_pivoted[(df_pivoted.index.get_level_values(0).isna()) & df_pivoted.index.get_level_values(1).isin([rnd])]"
   ]
  },
  {
   "cell_type": "code",
   "execution_count": null,
   "metadata": {},
   "outputs": [],
   "source": [
    "df[df.index.isin(['ВЛГ00292НЭ','ВЛГ01572НЭ','ВЛГ00572НЭ','ВЛГ01723НЭ'])]"
   ]
  }
 ],
 "metadata": {
  "kernelspec": {
   "display_name": "base",
   "language": "python",
   "name": "python3"
  },
  "language_info": {
   "codemirror_mode": {
    "name": "ipython",
    "version": 3
   },
   "file_extension": ".py",
   "mimetype": "text/x-python",
   "name": "python",
   "nbconvert_exporter": "python",
   "pygments_lexer": "ipython3",
   "version": "3.9.16"
  },
  "orig_nbformat": 4,
  "vscode": {
   "interpreter": {
    "hash": "2075f982b5a85f8685fd3738b4c9db47967946724d972570d9d66666547cbb33"
   }
  }
 },
 "nbformat": 4,
 "nbformat_minor": 2
}
