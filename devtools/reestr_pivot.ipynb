{
 "cells": [
  {
   "cell_type": "code",
   "execution_count": 2,
   "metadata": {},
   "outputs": [],
   "source": [
    "import pandas as pd\n",
    "import numpy as np\n",
    "\n",
    "import random"
   ]
  },
  {
   "cell_type": "code",
   "execution_count": 5,
   "metadata": {},
   "outputs": [],
   "source": [
    "#Скачать данные с сайта\n",
    "\n",
    "from src.app import ReestrRequest\n",
    "from src.queries import lfilt\n",
    "data = ReestrRequest(lfilt['oil']).get_data_from_reestr()\n",
    "df = pd.DataFrame(data)"
   ]
  },
  {
   "cell_type": "code",
   "execution_count": 7,
   "metadata": {},
   "outputs": [],
   "source": [
    "#Загрузить из файла\n",
    "from analysis.import_path import imp_path\n",
    "df = pd.read_excel(imp_path())"
   ]
  },
  {
   "attachments": {},
   "cell_type": "markdown",
   "metadata": {},
   "source": [
    "Извлечение данных с названиями участков (перенесено в app)"
   ]
  },
  {
   "cell_type": "code",
   "execution_count": null,
   "metadata": {},
   "outputs": [],
   "source": [
    "for i in range(100):\n",
    "    names_df = df.reset_index().set_index('prev_lic')\n",
    "    names_df = names_df[names_df.index.notnull()]\n",
    "\n",
    "    #Лист лицензий из names_df: в нем есть названия\n",
    "    lst = names_df.index.tolist()\n",
    "\n",
    "    #Лист лицензий из основного ДФ у которых нет названий но есть названия в names_df\n",
    "    lst2 = df.index[df.index.isin(lst) & df['Наименование участка недр'].isna()].tolist()\n",
    "\n",
    "    cols = ['Наименование участка недр']\n",
    "\n",
    "    df.loc[df.index.isin(lst2),cols] = names_df.loc[names_df.index.isin(lst2)]"
   ]
  },
  {
   "cell_type": "code",
   "execution_count": null,
   "metadata": {},
   "outputs": [],
   "source": [
    "len(df['Наименование участка недр']) -  df['Наименование участка недр'].count()"
   ]
  },
  {
   "cell_type": "code",
   "execution_count": null,
   "metadata": {},
   "outputs": [],
   "source": [
    "df[(df['Наименование участка недр'].isna()) & (df.prev_lic.notna())]"
   ]
  },
  {
   "cell_type": "code",
   "execution_count": null,
   "metadata": {},
   "outputs": [],
   "source": [
    "df[df.index.isin(['ЯКУ15826НР','ЯКУ15886НР'])]\n",
    "#df[df['Наименование участка недр'].isna()]"
   ]
  },
  {
   "attachments": {},
   "cell_type": "markdown",
   "metadata": {},
   "source": [
    "Подготовка данных для обработки"
   ]
  },
  {
   "cell_type": "code",
   "execution_count": null,
   "metadata": {},
   "outputs": [],
   "source": [
    "#Checks:\n",
    "max_data = df.loc[df.index.isin(lst2),'Дата лицензии'].max()\n",
    "ls = df['Наименование участка недр'].unique().tolist()\n",
    "\n",
    "print(f'Макс возраст лицензии без названия {max_data}')\n",
    "print(f'Количетсво уникальных названий: {len(ls)}')\n",
    "\n",
    "print(len(df['Наименование участка недр']) -  df['Наименование участка недр'].count())"
   ]
  },
  {
   "attachments": {},
   "cell_type": "markdown",
   "metadata": {},
   "source": [
    "PIVOT_CREATING"
   ]
  },
  {
   "cell_type": "code",
   "execution_count": null,
   "metadata": {},
   "outputs": [],
   "source": [
    "df_rind = df.reset_index()\n",
    "df3 = df_rind.pivot(index=['Наименование участка недр','Государственный регистрационный номер'], columns=['Year'])['prev_lic'].bfill(axis=1)\n",
    "#df3.loc[['Наименование участка недр']]\n",
    "df3[df3.index.get_level_values(0).isna()]"
   ]
  },
  {
   "attachments": {},
   "cell_type": "markdown",
   "metadata": {},
   "source": [
    "-----"
   ]
  },
  {
   "cell_type": "code",
   "execution_count": null,
   "metadata": {},
   "outputs": [],
   "source": [
    "rnd = random.choice(df.index[df['Наименование участка недр'].isna()].tolist())\n",
    "print (str(rnd))\n",
    "\n",
    "df3[(~df3.index.get_level_values(0).isna()) & df3.index.get_level_values(1).isin([rnd])]"
   ]
  },
  {
   "cell_type": "code",
   "execution_count": null,
   "metadata": {},
   "outputs": [],
   "source": [
    "df[df.index.isin(['ВЛГ00292НЭ','ВЛГ01572НЭ','ВЛГ00572НЭ','ВЛГ01723НЭ'])]"
   ]
  },
  {
   "cell_type": "code",
   "execution_count": null,
   "metadata": {},
   "outputs": [],
   "source": [
    "df[df.index.isin(['ВЛГ00292НЭ','ВЛГ01572НЭ','ВЛГ00572НЭ','ВЛГ01723НЭ'])]"
   ]
  },
  {
   "cell_type": "code",
   "execution_count": null,
   "metadata": {},
   "outputs": [],
   "source": [
    "df[df.index.isin(['АБН00011НР','АБН00220НП'])]"
   ]
  },
  {
   "cell_type": "code",
   "execution_count": null,
   "metadata": {},
   "outputs": [],
   "source": [
    "#Check indexes\n",
    "print('----Index level as typle\\n', df3.index.levels[1])\n",
    "print('---- Index level as function:', df3.index.get_level_values(1))"
   ]
  },
  {
   "attachments": {},
   "cell_type": "markdown",
   "metadata": {},
   "source": [
    "    Обработка дат лицензии и продавцов (Извлечение данных об истории продавцов)"
   ]
  },
  {
   "attachments": {},
   "cell_type": "markdown",
   "metadata": {},
   "source": [
    "    Сохранение датафреймов как несколько листо в один файл"
   ]
  },
  {
   "cell_type": "code",
   "execution_count": null,
   "metadata": {},
   "outputs": [],
   "source": [
    "path_to_file = 'C:/Users/user/Dropbox/Проекты/Роснедра/Реестр/test.xlsx'\n",
    "with pd.ExcelWriter(path_to_file, mode='a', if_sheet_exists='replace') as writer:\n",
    "   #writer.book = openpyxl.load_workbook(path_to_file)\n",
    "   df2.to_excel(writer, sheet_name='Company_pivot')\n",
    "   df3.to_excel(writer, sheet_name='Lecension_pivot')"
   ]
  }
 ],
 "metadata": {
  "kernelspec": {
   "display_name": "base",
   "language": "python",
   "name": "python3"
  },
  "language_info": {
   "codemirror_mode": {
    "name": "ipython",
    "version": 3
   },
   "file_extension": ".py",
   "mimetype": "text/x-python",
   "name": "python",
   "nbconvert_exporter": "python",
   "pygments_lexer": "ipython3",
   "version": "3.9.16"
  },
  "orig_nbformat": 4,
  "vscode": {
   "interpreter": {
    "hash": "2075f982b5a85f8685fd3738b4c9db47967946724d972570d9d66666547cbb33"
   }
  }
 },
 "nbformat": 4,
 "nbformat_minor": 2
}
