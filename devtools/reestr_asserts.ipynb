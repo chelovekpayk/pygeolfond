{
 "cells": [
  {
   "cell_type": "code",
   "execution_count": 5,
   "metadata": {},
   "outputs": [],
   "source": [
    "import pandas as pd\n",
    "import numpy as np\n",
    "from import_path import imp_path"
   ]
  },
  {
   "cell_type": "markdown",
   "metadata": {},
   "source": [
    "Загрузка EXCEL"
   ]
  },
  {
   "cell_type": "code",
   "execution_count": 2,
   "metadata": {},
   "outputs": [],
   "source": [
    "df = pd.read_excel(imp_path())"
   ]
  },
  {
   "attachments": {},
   "cell_type": "markdown",
   "metadata": {},
   "source": [
    "Тесты на корректность извлекаемых данных"
   ]
  },
  {
   "cell_type": "code",
   "execution_count": 3,
   "metadata": {},
   "outputs": [],
   "source": [
    "#Проверка целостности данных\n",
    "assert df['Ранее выданные лицензии'].count() == df['prev_lic'].count(), 'Ошибка в выгрузке предыдущих лицензий'\n",
    "assert df['Сведения о переоформлении лицензии на пользование недрами'].count() == df['forw_lic'].count(), 'Ошибка в выгрузке будущих лицензий'\n",
    "assert df['N'].count() == df['Координаты'].count(), 'Coords_extract_error'\n",
    "assert df['Наименоваение недропользователя'].count() == df['Сведения о пользователе недр'].count(), 'Name_extract_error'\n",
    "#assert df['INN'].count() == df['Сведения о пользователе недр'].count(), 'INN_extract_error' #не у всех есть ИНН в строке TODO: Придумать тест"
   ]
  },
  {
   "cell_type": "code",
   "execution_count": 4,
   "metadata": {},
   "outputs": [
    {
     "name": "stdout",
     "output_type": "stream",
     "text": [
      "7910 7910\n",
      "7904 7904\n",
      "13285 13285\n"
     ]
    },
    {
     "data": {
      "text/html": [
       "<div>\n",
       "<style scoped>\n",
       "    .dataframe tbody tr th:only-of-type {\n",
       "        vertical-align: middle;\n",
       "    }\n",
       "\n",
       "    .dataframe tbody tr th {\n",
       "        vertical-align: top;\n",
       "    }\n",
       "\n",
       "    .dataframe thead th {\n",
       "        text-align: right;\n",
       "    }\n",
       "</style>\n",
       "<table border=\"1\" class=\"dataframe\">\n",
       "  <thead>\n",
       "    <tr style=\"text-align: right;\">\n",
       "      <th></th>\n",
       "      <th>Государственный регистрационный номер</th>\n",
       "      <th>Дата лицензии</th>\n",
       "      <th>СубъектРФ</th>\n",
       "      <th>Вид полезного ископаемого</th>\n",
       "      <th>Наименование участка недр</th>\n",
       "      <th>Сведения о пользователе недр</th>\n",
       "      <th>INN</th>\n",
       "      <th>Наименоваение недропользователя</th>\n",
       "      <th>prev_owner</th>\n",
       "      <th>Last</th>\n",
       "      <th>Year</th>\n",
       "      <th>Координаты</th>\n",
       "      <th>N</th>\n",
       "      <th>E</th>\n",
       "      <th>Сведения о переоформлении лицензии на пользование недрами</th>\n",
       "      <th>Ранее выданные лицензии</th>\n",
       "      <th>prev_lic</th>\n",
       "      <th>prev_date</th>\n",
       "      <th>forw_lic</th>\n",
       "      <th>forw_date</th>\n",
       "    </tr>\n",
       "  </thead>\n",
       "  <tbody>\n",
       "  </tbody>\n",
       "</table>\n",
       "</div>"
      ],
      "text/plain": [
       "Empty DataFrame\n",
       "Columns: [Государственный регистрационный номер, Дата лицензии, СубъектРФ, Вид полезного ископаемого, Наименование участка недр, Сведения о пользователе недр, INN, Наименоваение недропользователя, prev_owner, Last, Year, Координаты, N, E, Сведения о переоформлении лицензии на пользование недрами, Ранее выданные лицензии, prev_lic, prev_date, forw_lic, forw_date]\n",
       "Index: []"
      ]
     },
     "execution_count": 4,
     "metadata": {},
     "output_type": "execute_result"
    }
   ],
   "source": [
    "print (df['prev_lic'].count(), df['Ранее выданные лицензии'].count())\n",
    "print (df['forw_lic'].count(), df['Сведения о переоформлении лицензии на пользование недрами'].count())\n",
    "print(df['N'].count(), df['Координаты'].count())\n",
    "\n",
    "#Проверки соответствия данных\n",
    "df['Ранее выданные лицензии'].compare(df['prev_lic'])\n",
    "df['Ранее выданные лицензии'].compare(df['prev_lic']),df['Сведения о переоформлении лицензии на пользование недрами'].compare(df['forw_lic'])\n",
    "\n",
    "#Проверки пустых значений\n",
    "df[(df['forw_lic'].isna()) & (df['Сведения о переоформлении лицензии на пользование недрами'].notnull())]\n",
    "df[(df['prev_lic'].isna()) & (df['Ранее выданные лицензии'].notnull())]\n",
    "df[(df['Координаты'].isna()) & (df['N'].notnull())]"
   ]
  }
 ],
 "metadata": {
  "kernelspec": {
   "display_name": "base",
   "language": "python",
   "name": "python3"
  },
  "language_info": {
   "codemirror_mode": {
    "name": "ipython",
    "version": 3
   },
   "file_extension": ".py",
   "mimetype": "text/x-python",
   "name": "python",
   "nbconvert_exporter": "python",
   "pygments_lexer": "ipython3",
   "version": "3.9.16"
  },
  "orig_nbformat": 4,
  "vscode": {
   "interpreter": {
    "hash": "f2521ad822d34211f2579facaaf08ffd4f617207f357d191055560c1094e8ed2"
   }
  }
 },
 "nbformat": 4,
 "nbformat_minor": 2
}
