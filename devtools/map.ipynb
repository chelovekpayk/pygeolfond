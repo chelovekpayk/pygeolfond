{
 "cells": [
  {
   "cell_type": "code",
   "execution_count": 1,
   "metadata": {},
   "outputs": [],
   "source": [
    "from datetime import datetime\n",
    "\n",
    "import pandas as pd\n",
    "import ipywidgets as widgets\n",
    "from ipywidgets import interact\n",
    "import folium"
   ]
  },
  {
   "cell_type": "code",
   "execution_count": 2,
   "metadata": {},
   "outputs": [],
   "source": [
    "df = pd.read_excel(io='../data.xlsx')"
   ]
  },
  {
   "cell_type": "code",
   "execution_count": 5,
   "metadata": {},
   "outputs": [
    {
     "name": "stderr",
     "output_type": "stream",
     "text": [
      "/tmp/ipykernel_33452/4061502996.py:2: SettingWithCopyWarning: \n",
      "A value is trying to be set on a copy of a slice from a DataFrame.\n",
      "Try using .loc[row_indexer,col_indexer] = value instead\n",
      "\n",
      "See the caveats in the documentation: https://pandas.pydata.org/pandas-docs/stable/user_guide/indexing.html#returning-a-view-versus-a-copy\n",
      "  geodata['month'] = geodata['date'].dt.to_period('M')\n"
     ]
    }
   ],
   "source": [
    "geodata = df[['num','date', 'owner', 'INN', 'N', 'E']]\n",
    "geodata['month'] = geodata['date'].dt.to_period('M')"
   ]
  },
  {
   "cell_type": "code",
   "execution_count": 3,
   "metadata": {},
   "outputs": [],
   "source": [
    "def coords(period):\n",
    "    if period:\n",
    "        start_date = period[0]\n",
    "        end_date = period[1]\n",
    "        mask = (geodata['month'] >= start_date) & (geodata['month'] <= end_date)\n",
    "        return geodata[mask]\n",
    "    else: return None"
   ]
  },
  {
   "cell_type": "code",
   "execution_count": 5,
   "metadata": {
    "scrolled": false
   },
   "outputs": [
    {
     "data": {
      "text/html": [
       "<div>\n",
       "<style scoped>\n",
       "    .dataframe tbody tr th:only-of-type {\n",
       "        vertical-align: middle;\n",
       "    }\n",
       "\n",
       "    .dataframe tbody tr th {\n",
       "        vertical-align: top;\n",
       "    }\n",
       "\n",
       "    .dataframe thead th {\n",
       "        text-align: right;\n",
       "    }\n",
       "</style>\n",
       "<table border=\"1\" class=\"dataframe\">\n",
       "  <thead>\n",
       "    <tr style=\"text-align: right;\">\n",
       "      <th></th>\n",
       "      <th>num</th>\n",
       "      <th>date</th>\n",
       "      <th>owner</th>\n",
       "      <th>INN</th>\n",
       "      <th>N</th>\n",
       "      <th>E</th>\n",
       "      <th>month</th>\n",
       "    </tr>\n",
       "  </thead>\n",
       "  <tbody>\n",
       "    <tr>\n",
       "      <th>118</th>\n",
       "      <td>АСТ00343НП</td>\n",
       "      <td>2020-02-14</td>\n",
       "      <td>ОБЩЕСТВО С ОГРАНИЧЕННОЙ ОТВЕТСТВЕННОСТЬЮ \"ВЯЗО...</td>\n",
       "      <td>3.024000e+09</td>\n",
       "      <td>48°06'26.152\"N</td>\n",
       "      <td>45°35'44.941\"Е</td>\n",
       "      <td>2020-02</td>\n",
       "    </tr>\n",
       "    <tr>\n",
       "      <th>162</th>\n",
       "      <td>АСТ16682НЭ</td>\n",
       "      <td>2020-10-01</td>\n",
       "      <td>ОБЩЕСТВО С ОГРАНИЧЕННОЙ ОТВЕТСТВЕННОСТЬЮ \"РОСС...</td>\n",
       "      <td>6.317130e+09</td>\n",
       "      <td>47°06'0\"N</td>\n",
       "      <td>47°42'0\"Е</td>\n",
       "      <td>2020-10</td>\n",
       "    </tr>\n",
       "    <tr>\n",
       "      <th>167</th>\n",
       "      <td>БЛГ04004НП</td>\n",
       "      <td>2020-08-28</td>\n",
       "      <td>ОБЩЕСТВО С ОГРАНИЧЕННОЙ ОТВЕТСТВЕННОСТЬЮ \"ДАЛЬ...</td>\n",
       "      <td>2.540255e+09</td>\n",
       "      <td>54°17'4.0127\"N</td>\n",
       "      <td>130°42'59.525\"Е</td>\n",
       "      <td>2020-08</td>\n",
       "    </tr>\n",
       "    <tr>\n",
       "      <th>179</th>\n",
       "      <td>ВЛВ02660НП</td>\n",
       "      <td>2020-10-21</td>\n",
       "      <td>ОБЩЕСТВО С ОГРАНИЧЕННОЙ ОТВЕТСТВЕННОСТЬЮ \"ДАЛЬ...</td>\n",
       "      <td>2.540255e+09</td>\n",
       "      <td>46°39'26.2\"N</td>\n",
       "      <td>134°26'14.5\"Е</td>\n",
       "      <td>2020-10</td>\n",
       "    </tr>\n",
       "    <tr>\n",
       "      <th>688</th>\n",
       "      <td>ВЛГ02336НП</td>\n",
       "      <td>2020-03-18</td>\n",
       "      <td>ОБЩЕСТВО С ОГРАНИЧЕННОЙ ОТВЕТСТВЕННОСТЬЮ \"РОСС...</td>\n",
       "      <td>6.317130e+09</td>\n",
       "      <td>50°46'0\"N</td>\n",
       "      <td>44°21'0\"Е</td>\n",
       "      <td>2020-03</td>\n",
       "    </tr>\n",
       "    <tr>\n",
       "      <th>...</th>\n",
       "      <td>...</td>\n",
       "      <td>...</td>\n",
       "      <td>...</td>\n",
       "      <td>...</td>\n",
       "      <td>...</td>\n",
       "      <td>...</td>\n",
       "      <td>...</td>\n",
       "    </tr>\n",
       "    <tr>\n",
       "      <th>15973</th>\n",
       "      <td>ЯКУ06987НП</td>\n",
       "      <td>2021-10-29</td>\n",
       "      <td>Общество с ограниченной ответственностью \"Дюгю...</td>\n",
       "      <td>1.435352e+09</td>\n",
       "      <td>72°17'11.601\"N</td>\n",
       "      <td>117°38'0.553\"Е</td>\n",
       "      <td>2021-10</td>\n",
       "    </tr>\n",
       "    <tr>\n",
       "      <th>15974</th>\n",
       "      <td>ЯКУ06988НП</td>\n",
       "      <td>2021-10-29</td>\n",
       "      <td>ОБЩЕСТВО С ОГРАНИЧЕННОЙ ОТВЕТСТВЕННОСТЬЮ \"ДЮГЮ...</td>\n",
       "      <td>1.435352e+09</td>\n",
       "      <td>72°01'11.604\"N</td>\n",
       "      <td>116°29'25.208\"Е</td>\n",
       "      <td>2021-10</td>\n",
       "    </tr>\n",
       "    <tr>\n",
       "      <th>15975</th>\n",
       "      <td>ЯКУ06989НП</td>\n",
       "      <td>2021-10-29</td>\n",
       "      <td>Общество с ограниченной ответственностью \"Дюгю...</td>\n",
       "      <td>1.435352e+09</td>\n",
       "      <td>72°12'52.615\"N</td>\n",
       "      <td>116°35'38.269\"Е</td>\n",
       "      <td>2021-10</td>\n",
       "    </tr>\n",
       "    <tr>\n",
       "      <th>16089</th>\n",
       "      <td>ЯКУ16667НП</td>\n",
       "      <td>2020-07-20</td>\n",
       "      <td>ФЕДЕРАЛЬНОЕ ГОСУДАРСТВЕННОЕ БЮДЖЕТНОЕ УЧРЕЖДЕН...</td>\n",
       "      <td>7.720330e+09</td>\n",
       "      <td>63°26'28\"N</td>\n",
       "      <td>129°33'49\"Е</td>\n",
       "      <td>2020-07</td>\n",
       "    </tr>\n",
       "    <tr>\n",
       "      <th>16090</th>\n",
       "      <td>ЯКУ16670НП</td>\n",
       "      <td>2020-07-20</td>\n",
       "      <td>ФЕДЕРАЛЬНОЕ ГОСУДАРСТВЕННОЕ БЮДЖЕТНОЕ УЧРЕЖДЕН...</td>\n",
       "      <td>7.720330e+09</td>\n",
       "      <td>64°18'49.62\"N</td>\n",
       "      <td>125°25'49.94\"Е</td>\n",
       "      <td>2020-07</td>\n",
       "    </tr>\n",
       "  </tbody>\n",
       "</table>\n",
       "<p>802 rows × 7 columns</p>\n",
       "</div>"
      ],
      "text/plain": [
       "              num       date  \\\n",
       "118    АСТ00343НП 2020-02-14   \n",
       "162    АСТ16682НЭ 2020-10-01   \n",
       "167    БЛГ04004НП 2020-08-28   \n",
       "179    ВЛВ02660НП 2020-10-21   \n",
       "688    ВЛГ02336НП 2020-03-18   \n",
       "...           ...        ...   \n",
       "15973  ЯКУ06987НП 2021-10-29   \n",
       "15974  ЯКУ06988НП 2021-10-29   \n",
       "15975  ЯКУ06989НП 2021-10-29   \n",
       "16089  ЯКУ16667НП 2020-07-20   \n",
       "16090  ЯКУ16670НП 2020-07-20   \n",
       "\n",
       "                                                   owner           INN  \\\n",
       "118    ОБЩЕСТВО С ОГРАНИЧЕННОЙ ОТВЕТСТВЕННОСТЬЮ \"ВЯЗО...  3.024000e+09   \n",
       "162    ОБЩЕСТВО С ОГРАНИЧЕННОЙ ОТВЕТСТВЕННОСТЬЮ \"РОСС...  6.317130e+09   \n",
       "167    ОБЩЕСТВО С ОГРАНИЧЕННОЙ ОТВЕТСТВЕННОСТЬЮ \"ДАЛЬ...  2.540255e+09   \n",
       "179    ОБЩЕСТВО С ОГРАНИЧЕННОЙ ОТВЕТСТВЕННОСТЬЮ \"ДАЛЬ...  2.540255e+09   \n",
       "688    ОБЩЕСТВО С ОГРАНИЧЕННОЙ ОТВЕТСТВЕННОСТЬЮ \"РОСС...  6.317130e+09   \n",
       "...                                                  ...           ...   \n",
       "15973  Общество с ограниченной ответственностью \"Дюгю...  1.435352e+09   \n",
       "15974  ОБЩЕСТВО С ОГРАНИЧЕННОЙ ОТВЕТСТВЕННОСТЬЮ \"ДЮГЮ...  1.435352e+09   \n",
       "15975  Общество с ограниченной ответственностью \"Дюгю...  1.435352e+09   \n",
       "16089  ФЕДЕРАЛЬНОЕ ГОСУДАРСТВЕННОЕ БЮДЖЕТНОЕ УЧРЕЖДЕН...  7.720330e+09   \n",
       "16090  ФЕДЕРАЛЬНОЕ ГОСУДАРСТВЕННОЕ БЮДЖЕТНОЕ УЧРЕЖДЕН...  7.720330e+09   \n",
       "\n",
       "                    N                E    month  \n",
       "118    48°06'26.152\"N   45°35'44.941\"Е  2020-02  \n",
       "162         47°06'0\"N        47°42'0\"Е  2020-10  \n",
       "167    54°17'4.0127\"N  130°42'59.525\"Е  2020-08  \n",
       "179      46°39'26.2\"N    134°26'14.5\"Е  2020-10  \n",
       "688         50°46'0\"N        44°21'0\"Е  2020-03  \n",
       "...               ...              ...      ...  \n",
       "15973  72°17'11.601\"N   117°38'0.553\"Е  2021-10  \n",
       "15974  72°01'11.604\"N  116°29'25.208\"Е  2021-10  \n",
       "15975  72°12'52.615\"N  116°35'38.269\"Е  2021-10  \n",
       "16089      63°26'28\"N      129°33'49\"Е  2020-07  \n",
       "16090   64°18'49.62\"N   125°25'49.94\"Е  2020-07  \n",
       "\n",
       "[802 rows x 7 columns]"
      ]
     },
     "execution_count": 5,
     "metadata": {},
     "output_type": "execute_result"
    }
   ],
   "source": [
    "delta = (pd.to_datetime('01/01/2020').to_period('M'), pd.to_datetime('01/01/2022').to_period('M'))\n",
    "coords(delta)"
   ]
  },
  {
   "cell_type": "code",
   "execution_count": null,
   "metadata": {},
   "outputs": [],
   "source": [
    "@interact(coords, dates=widgets.SelectionRangeSlider(\n",
    "    index=\n",
    "    options=\n",
    "    description='Dates',\n",
    "    orientation='horizontal',\n",
    "    layout={'width': '500px'}))"
   ]
  },
  {
   "cell_type": "code",
   "execution_count": null,
   "metadata": {},
   "outputs": [],
   "source": [
    "len(geodata['month'][geodata['month'] > pd.to_datetime('2010-01-02').to_period('M')])"
   ]
  },
  {
   "cell_type": "code",
   "execution_count": 14,
   "metadata": {},
   "outputs": [
    {
     "data": {
      "application/vnd.jupyter.widget-view+json": {
       "model_id": "028e5038077e4cca92b4ee687af766fe",
       "version_major": 2,
       "version_minor": 0
      },
      "text/plain": [
       "SelectionRangeSlider(description='Dates', index=(108, 80), layout=Layout(width='1000px'), options=(Period('202…"
      ]
     },
     "execution_count": 14,
     "metadata": {},
     "output_type": "execute_result"
    }
   ],
   "source": [
    "def on_value_change(change):\n",
    "    print(change)\n",
    "\n",
    "selection_range_slider = widgets.SelectionRangeSlider(\n",
    "    options=geodata['month'][geodata['month'] > pd.to_datetime('2020-01-02').to_period('M')],\n",
    "    index = (200,1000),\n",
    "    description='Dates',\n",
    "    orientation='horizontal',\n",
    "    layout={'width': '1000px'})\n",
    "\n",
    "selection_range_slider"
   ]
  },
  {
   "cell_type": "code",
   "execution_count": null,
   "metadata": {
    "scrolled": true
   },
   "outputs": [],
   "source": [
    "widgets.interact(on_value_change, change=selection_range_slider)"
   ]
  },
  {
   "cell_type": "code",
   "execution_count": 15,
   "metadata": {
    "scrolled": true
   },
   "outputs": [
    {
     "data": {
      "application/vnd.jupyter.widget-view+json": {
       "model_id": "61dd66e04e624a8b8f2b44fb36a74a63",
       "version_major": 2,
       "version_minor": 0
      },
      "text/plain": [
       "interactive(children=(SelectionRangeSlider(description='Dates', index=(108, 632), layout=Layout(width='1000px'…"
      ]
     },
     "metadata": {},
     "output_type": "display_data"
    },
    {
     "data": {
      "text/plain": [
       "<function __main__.coords(period)>"
      ]
     },
     "execution_count": 15,
     "metadata": {},
     "output_type": "execute_result"
    }
   ],
   "source": [
    "widgets.interact(coords, period=selection_range_slider)"
   ]
  },
  {
   "cell_type": "markdown",
   "metadata": {},
   "source": [
    "Сделай селектИнт и поквартально"
   ]
  }
 ],
 "metadata": {
  "kernelspec": {
   "display_name": "Python 3 (ipykernel)",
   "language": "python",
   "name": "python3"
  },
  "language_info": {
   "codemirror_mode": {
    "name": "ipython",
    "version": 3
   },
   "file_extension": ".py",
   "mimetype": "text/x-python",
   "name": "python",
   "nbconvert_exporter": "python",
   "pygments_lexer": "ipython3",
   "version": "3.11.0rc1"
  }
 },
 "nbformat": 4,
 "nbformat_minor": 2
}
