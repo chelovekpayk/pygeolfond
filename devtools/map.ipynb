{
 "cells": [
  {
   "cell_type": "code",
   "execution_count": 1,
   "metadata": {},
   "outputs": [],
   "source": [
    "from datetime import datetime\n",
    "\n",
    "import pandas as pd\n",
    "import ipywidgets as widgets\n",
    "from ipywidgets import interact\n",
    "import folium\n",
    "import re\n",
    "import random"
   ]
  },
  {
   "cell_type": "code",
   "execution_count": 9,
   "metadata": {},
   "outputs": [],
   "source": [
    "#Загрузка данных для разработки датасета\n",
    "df = pd.read_excel(io='data.xlsx', index_col=0)\n",
    "\n",
    "# Взять только последние лицензии для исключения дубликатов\n",
    "# Обработать данные \n",
    "geodata = df.loc[df['Last'] == True]"
   ]
  },
  {
   "cell_type": "code",
   "execution_count": 4,
   "metadata": {},
   "outputs": [],
   "source": [
    "#Функция для извлечения радиан из столбцов N и E\n",
    "def to_rads(value) -> float:\n",
    "\n",
    "    pattern = \"(\\d*)°(\\d*)'(\\d*\\.*\\d*)\"\n",
    "    val = re.findall(pattern=pattern, string=value)[0]\n",
    "    return round(float(val[0]) + float(val[1])/60 + float(val[2])/3600, 5)"
   ]
  },
  {
   "cell_type": "code",
   "execution_count": 20,
   "metadata": {
    "scrolled": true
   },
   "outputs": [],
   "source": [
    "#Добавление столбцов\n",
    "#Перевод координат град-мин-сек в радианы\n",
    "geodata.loc[:,'rad_N'] = geodata['N'].map(arg=to_rads, na_action='ignore')\n",
    "geodata.loc[:,'rad_E'] = geodata['E'].map(arg=to_rads, na_action='ignore')\n",
    "\n",
    "#Добавление периодов\n",
    "geodata.loc[:,'month'] = geodata['date'].dt.to_period('M')"
   ]
  },
  {
   "cell_type": "code",
   "execution_count": 22,
   "metadata": {},
   "outputs": [],
   "source": [
    "geodata.to_excel(excel_writer='geodata.xlsx', engine='openpyxl')"
   ]
  },
  {
   "cell_type": "code",
   "execution_count": 23,
   "metadata": {},
   "outputs": [],
   "source": [
    "#Доработать"
   ]
  },
  {
   "cell_type": "code",
   "execution_count": null,
   "metadata": {},
   "outputs": [],
   "source": [
    "def coords(period):\n",
    "    if period:\n",
    "        start_date = period[0]\n",
    "        end_date = period[1]\n",
    "        mask = (geodata['month'] >= start_date) & (geodata['month'] <= end_date)\n",
    "        return geodata[mask]\n",
    "    else: return None"
   ]
  },
  {
   "cell_type": "code",
   "execution_count": null,
   "metadata": {
    "scrolled": false
   },
   "outputs": [],
   "source": [
    "delta = (pd.to_datetime('01/01/2020').to_period('M'), pd.to_datetime('01/01/2022').to_period('M'))\n",
    "coords(delta)"
   ]
  },
  {
   "cell_type": "code",
   "execution_count": null,
   "metadata": {},
   "outputs": [],
   "source": [
    "@interact(coords, dates=widgets.SelectionRangeSlider(\n",
    "    index=\n",
    "    options=\n",
    "    description='Dates',\n",
    "    orientation='horizontal',\n",
    "    layout={'width': '500px'}))"
   ]
  },
  {
   "cell_type": "code",
   "execution_count": null,
   "metadata": {},
   "outputs": [],
   "source": [
    "len(geodata['month'][geodata['month'] > pd.to_datetime('2010-01-02').to_period('M')])"
   ]
  },
  {
   "cell_type": "code",
   "execution_count": null,
   "metadata": {},
   "outputs": [],
   "source": [
    "def on_value_change(change):\n",
    "    print(change)\n",
    "\n",
    "selection_range_slider = widgets.SelectionRangeSlider(\n",
    "    options=geodata['month'][geodata['month'] > pd.to_datetime('2020-01-02').to_period('M')],\n",
    "    index = (200,1000),\n",
    "    description='Dates',\n",
    "    orientation='horizontal',\n",
    "    layout={'width': '1000px'})\n",
    "\n",
    "selection_range_slider"
   ]
  },
  {
   "cell_type": "code",
   "execution_count": null,
   "metadata": {
    "scrolled": true
   },
   "outputs": [],
   "source": [
    "widgets.interact(on_value_change, change=selection_range_slider)"
   ]
  },
  {
   "cell_type": "code",
   "execution_count": null,
   "metadata": {
    "scrolled": true
   },
   "outputs": [],
   "source": [
    "widgets.interact(coords, period=selection_range_slider)"
   ]
  },
  {
   "cell_type": "code",
   "execution_count": null,
   "metadata": {},
   "outputs": [],
   "source": [
    "location = geodata.dropna(subset=['rad_N'])\n",
    "location = location[location['month'] == '2023Q2']"
   ]
  },
  {
   "cell_type": "markdown",
   "metadata": {},
   "source": [
    "1. Сделай селектИнт и поквартально\n",
    "2. Перевести координаты в градусы"
   ]
  },
  {
   "cell_type": "code",
   "execution_count": null,
   "metadata": {},
   "outputs": [],
   "source": [
    "def render():\n",
    "    for n in location[['rad_N', 'rad_E']].itertuples(index=False):\n",
    "        folium.Marker(location=n).add_to(m)"
   ]
  },
  {
   "cell_type": "code",
   "execution_count": null,
   "metadata": {},
   "outputs": [],
   "source": [
    "m = folium.Map(tiles=\"Stamen Toner\", location=location[['rad_N', 'rad_E']].iloc[1], zoom_start=1, prefer_canvas=True, disable_3d=True)\n",
    "render()\n",
    "m"
   ]
  }
 ],
 "metadata": {
  "kernelspec": {
   "display_name": "Python 3 (ipykernel)",
   "language": "python",
   "name": "python3"
  },
  "language_info": {
   "codemirror_mode": {
    "name": "ipython",
    "version": 3
   },
   "file_extension": ".py",
   "mimetype": "text/x-python",
   "name": "python",
   "nbconvert_exporter": "python",
   "pygments_lexer": "ipython3",
   "version": "3.9.2"
  }
 },
 "nbformat": 4,
 "nbformat_minor": 2
}
